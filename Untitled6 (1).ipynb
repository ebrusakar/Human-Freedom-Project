{
 "cells": [
  {
   "cell_type": "markdown",
   "source": [
    "<font size=\"5\" color='blue'>**Analysis of Human Freedom Scores by Regions**</font>"
   ],
   "metadata": {}
  },
  {
   "cell_type": "code",
   "execution_count": null,
   "source": [
    "ggplot(data,aes(region,Human_Freedom_score))+geom_boxplot()+labs(title =\"Human Freedom Scores by Region\",y=\"Human Freedom Score\")\r\n",
    "                                            +scale_fill_gradient2()+ theme(axis.text.x = element_text(angle = 60, hjust = 1))"
   ],
   "outputs": [],
   "metadata": {}
  },
  {
   "cell_type": "markdown",
   "source": [
    "<font size=\"5\" color='blue'>**Analysis of Countries with The Highest and The Lowest Human Freedom Scores**</font>"
   ],
   "metadata": {}
  },
  {
   "cell_type": "code",
   "execution_count": null,
   "source": [
    "newdata <- data[order(Human_Freedom_score,countries),]\r\n",
    "newdata=newdata[,c(1,19)]\r\n",
    "newdata[,2]=round(newdata[,2],digits = 1)\r\n",
    "newdata=newdata[1:10,]\r\n",
    "Analysis of Legal System and Property Right Scores by Regions Codes\r\n",
    "keeps <- c(\"Legal_system_and_property_rights\",\"region\") #independence\r\n",
    "master = master_all[keeps]\r\n",
    "str(master)\r\n",
    "summary(master)\r\n",
    "mytable <- table(master)\r\n",
    "chi2 <- chisq.test(mytable, correct=TRUE)\r\n",
    "shapiro.test(Legal_system_and_property_rights) # normality check\r\n",
    "bartlett.test(Legal_system_and_property_rights ~ region, data=data) #variance check\r\n",
    "tukey.test=TukeyHSD(aov.out,conf.level = 0.99)\r\n",
    "aov.out = aov(Legal_system_and_property_rights ~ region, data=data)"
   ],
   "outputs": [],
   "metadata": {}
  },
  {
   "cell_type": "markdown",
   "source": [
    "<font size=\"5\" color='blue'>**Correlation Matrix** </font>"
   ],
   "metadata": {}
  },
  {
   "cell_type": "code",
   "execution_count": null,
   "source": [
    "res2 <- rcorr(as.matrix(data))\r\n",
    "corrplot(res2$r, type=\"upper\", order=\"hclust\",p.mat = res2$P, sig.level = 0.01, insig =\r\n",
    "           \"blank\", tl.cex = 0.55/par(\"cex\"),cl.cex = 1/par(\"cex\"))"
   ],
   "outputs": [],
   "metadata": {}
  },
  {
   "cell_type": "markdown",
   "source": [
    "<font size=\"5\" color='blue'>**Multiple Linear Regression** </font>"
   ],
   "metadata": {}
  },
  {
   "cell_type": "code",
   "execution_count": null,
   "source": [
    "T_tuk = transformTukey(Human_Freedom_score,plotit=FALSE) #transformation\r\n",
    "shapiro.test(Human_Freedom_score^(1.5))                  #normality check\r\n",
    "fit=lm((Human_Freedom_score^1.5)~Rule_of_Law+Security_and_Safety+Freedom_of_movement+Religious_freedom+Association\r\n",
    "       +Freedom_of_expression+Identity_and_relationships+Size_of_government+Legal_system_and_property_rights+Sound_money\r\n",
    "       +Freedom_to_trade_internationally+Regulation,data=data)\r\n",
    "summary(fit)\r\n",
    "mse=(test.set$Human_Freedom_score-pred)^2\r\n",
    "pred=predict(model,test.set)\r\n",
    "summary(model)\r\n",
    "model=lm(Human_Freedom_score~Rule_of_Law+Security_and_Safety+Freedom_of_movement+Religious_freedom+Association\r\n",
    "       +Freedom_of_expression+Size_of_government+Legal_system_and_property_rights+Sound_money\r\n",
    "       +Freedom_to_trade_internationally+Regulation,data=train.set)\r\n",
    "fit=lm(Human_Freedom_score^(1.5)~Rule_of_Law+Security_and_Safety+Freedom_of_movement\r\n",
    "       +Religious_freedom+Association+Freedom_of_expression+Identity_and_relationships\r\n",
    "       +Personal_Freedom_score+Size_of_government+Legal_system_and_property_rights+Sound_money\r\n",
    "       +Freedom_to_trade_internationally+Regulation+Economic_Freedom_score,data=data)\r\n",
    "summary(fit)\r\n",
    "fit2=lm(Human_Freedom_score^(1.5)~Rule_of_Law+Security_and_Safety+Freedom_of_movement\r\n",
    "       +Religious_freedom+Association+Freedom_of_expression+Identity_and_relationships\r\n",
    "       +Size_of_government+Legal_system_and_property_rights+Sound_money+Freedom_to_trade_internationally\r\n",
    "       +Regulation,data=data)\r\n",
    "summary(fit2)                  #after transformation\r\n",
    "plot(fit2)\r\n",
    "layout(matrix(c(1,2,3,4),2,2)) #optional 4 graphs/page\r\n",
    "x=residuals(fit2)\r\n",
    "lines(xfit, yfit, col=\"red\", lwd=2)\r\n",
    "yfit <- yfit*diff(h$mids[1:2])*length(x)\r\n",
    "yfit<-dnorm(xfit,mean=mean(x),sd=sd(x))\r\n",
    "xfit<-seq(min(x),max(x),length=100)\r\n",
    "main=\"Histogram of residuals\")\r\n",
    "h<-hist(x, breaks=9, col=\"brown\",)\r\n",
    "ols_step_best_subset(fit2)\r\n",
    "ols_step_both_p(fit2)\r\n",
    "ols_step_forward_p(fit2)\r\n",
    "fit3=lm(Human_Freedom_score^(1.5)~Rule_of_Law+Security_and_Safety+Freedom_of_movement\r\n",
    "       +Religious_freedom+Association+Freedom_of_expression+Size_of_government\r\n",
    "       +Legal_system_and_property_rights+Sound_money+Freedom_to_trade_internationally\r\n",
    "       +Regulation,data=data)  #final model after selection\r\n",
    "summary(fit3)"
   ],
   "outputs": [],
   "metadata": {}
  },
  {
   "cell_type": "markdown",
   "source": [
    "<font size=\"5\" color='blue'>**Cross Validation** </font>"
   ],
   "metadata": {}
  },
  {
   "cell_type": "code",
   "execution_count": null,
   "source": [
    "test.set=data[trainingRowindex,]\r\n",
    "train.set=data[trainingRowindex,]\r\n",
    "trainingRow=sample(1:nrow(data),0.7*nrow(data))\r\n",
    "data$Human_Freedom_score=data$Human_Freedom_score^(1.5)\r\n",
    "createDataPartition(p = 0.8, list = FALSE)\r\n",
    "training.samples <- data$Human_Freedom_score^(1.5)\r\n",
    "training.sample=data$Human_Freedom_score^(1.5)\r\n",
    "MSE=mean(mse, na.rm = T)"
   ],
   "outputs": [],
   "metadata": {}
  }
 ],
 "metadata": {
  "kernelspec": {
   "display_name": "R",
   "language": "R",
   "name": "conda-env-r-r"
  },
  "language_info": {
   "codemirror_mode": "r",
   "file_extension": ".r",
   "mimetype": "text/x-r-source",
   "name": "R",
   "pygments_lexer": "r",
   "version": "3.5.1"
  }
 },
 "nbformat": 4,
 "nbformat_minor": 5
}