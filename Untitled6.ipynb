{
 "cells": [
  {
   "cell_type": "markdown",
   "id": "cbff8887-1e5c-4da8-b5de-9546a984d4ac",
   "metadata": {},
   "source": [
    "<font size=\"5\" color='blue'>**Analysis of Human Freedom Scores by Regions**</font>"
   ]
  },
  {
   "cell_type": "code",
   "execution_count": null,
   "id": "7dabcfbe-70dc-4fb0-bc9b-07ee95787d2f",
   "metadata": {},
   "outputs": [],
   "source": [
    "ggplot(data,aes(region,Human_Freedom_score))+geom_boxplot()+labs(title =\"Human Freedom Scores by Region\",y=\"Human Freedom Score\")\n",
    "                                            +scale_fill_gradient2()+ theme(axis.text.x = element_text(angle = 60, hjust = 1))"
   ]
  },
  {
   "cell_type": "markdown",
   "id": "41e512e9-6a31-4e3f-aee5-0696be5f9fdf",
   "metadata": {},
   "source": [
    "<font size=\"5\" color='blue'>**Analysis of Countries with The Highest and The Lowest Human Freedom Scores**</font>"
   ]
  },
  {
   "cell_type": "code",
   "execution_count": null,
   "id": "ff6fba0e-f026-4ee8-b29f-3b4d4ac19dc4",
   "metadata": {},
   "outputs": [],
   "source": [
    "newdata <- data[order(Human_Freedom_score,countries),]\n",
    "newdata=newdata[,c(1,19)]\n",
    "newdata[,2]=round(newdata[,2],digits = 1)\n",
    "newdata=newdata[1:10,]\n",
    "Analysis of Legal System and Property Right Scores by Regions Codes\n",
    "keeps <- c(\"Legal_system_and_property_rights\",\"region\") #independence\n",
    "master = master_all[keeps]\n",
    "str(master)\n",
    "summary(master)\n",
    "mytable <- table(master)\n",
    "chi2 <- chisq.test(mytable, correct=TRUE)\n",
    "shapiro.test(Legal_system_and_property_rights) # normality check\n",
    "bartlett.test(Legal_system_and_property_rights ~ region, data=data) #variance check\n",
    "tukey.test=TukeyHSD(aov.out,conf.level = 0.99)\n",
    "aov.out = aov(Legal_system_and_property_rights ~ region, data=data)"
   ]
  },
  {
   "cell_type": "markdown",
   "id": "1ace18b3-cdf9-4cc7-aab8-5faadeaca668",
   "metadata": {},
   "source": [
    "<font size=\"5\" color='blue'>**Correlation Matrix** </font>"
   ]
  },
  {
   "cell_type": "code",
   "execution_count": null,
   "id": "1d972e0a-aa66-4676-82f8-d1afd17780c1",
   "metadata": {},
   "outputs": [],
   "source": [
    "res2 <- rcorr(as.matrix(data))\n",
    "corrplot(res2$r, type=\"upper\", order=\"hclust\",p.mat = res2$P, sig.level = 0.01, insig =\n",
    "           \"blank\", tl.cex = 0.55/par(\"cex\"),cl.cex = 1/par(\"cex\"))"
   ]
  },
  {
   "cell_type": "markdown",
   "id": "1330a048-ebbc-410c-8bc5-a9134aab9c89",
   "metadata": {},
   "source": [
    "<font size=\"5\" color='blue'>**Multiple Linear Regression** </font>"
   ]
  },
  {
   "cell_type": "code",
   "execution_count": null,
   "id": "8a0cbb57-4d57-487f-8b40-48326b6f5f8f",
   "metadata": {},
   "outputs": [],
   "source": [
    "T_tuk = transformTukey(Human_Freedom_score,plotit=FALSE) #transformation\n",
    "shapiro.test(Human_Freedom_score^(1.5))                  #normality check\n",
    "fit=lm((Human_Freedom_score^1.5)~Rule_of_Law+Security_and_Safety+Freedom_of_movement+Religious_freedom+Association\n",
    "       +Freedom_of_expression+Identity_and_relationships+Size_of_government+Legal_system_and_property_rights+Sound_money\n",
    "       +Freedom_to_trade_internationally+Regulation,data=data)\n",
    "summary(fit)\n",
    "mse=(test.set$Human_Freedom_score-pred)^2\n",
    "pred=predict(model,test.set)\n",
    "summary(model)\n",
    "model=lm(Human_Freedom_score~Rule_of_Law+Security_and_Safety+Freedom_of_movement+Religious_freedom+Association\n",
    "       +Freedom_of_expression+Size_of_government+Legal_system_and_property_rights+Sound_money\n",
    "       +Freedom_to_trade_internationally+Regulation,data=train.set)\n",
    "fit=lm(Human_Freedom_score^(1.5)~Rule_of_Law+Security_and_Safety+Freedom_of_movement\n",
    "       +Religious_freedom+Association+Freedom_of_expression+Identity_and_relationships\n",
    "       +Personal_Freedom_score+Size_of_government+Legal_system_and_property_rights+Sound_money\n",
    "       +Freedom_to_trade_internationally+Regulation+Economic_Freedom_score,data=data)\n",
    "summary(fit)\n",
    "fit2=lm(Human_Freedom_score^(1.5)~Rule_of_Law+Security_and_Safety+Freedom_of_movement\n",
    "       +Religious_freedom+Association+Freedom_of_expression+Identity_and_relationships\n",
    "       +Size_of_government+Legal_system_and_property_rights+Sound_money+Freedom_to_trade_internationally\n",
    "       +Regulation,data=data)\n",
    "summary(fit2)                  #after transformation\n",
    "plot(fit2)\n",
    "layout(matrix(c(1,2,3,4),2,2)) #optional 4 graphs/page\n",
    "x=residuals(fit2)\n",
    "lines(xfit, yfit, col=\"red\", lwd=2)\n",
    "yfit <- yfit*diff(h$mids[1:2])*length(x)\n",
    "yfit<-dnorm(xfit,mean=mean(x),sd=sd(x))\n",
    "xfit<-seq(min(x),max(x),length=100)\n",
    "main=\"Histogram of residuals\")\n",
    "h<-hist(x, breaks=9, col=\"brown\",)\n",
    "ols_step_best_subset(fit2)\n",
    "ols_step_both_p(fit2)\n",
    "ols_step_forward_p(fit2)\n",
    "fit3=lm(Human_Freedom_score^(1.5)~Rule_of_Law+Security_and_Safety+Freedom_of_movement\n",
    "       +Religious_freedom+Association+Freedom_of_expression+Size_of_government\n",
    "       +Legal_system_and_property_rights+Sound_money+Freedom_to_trade_internationally\n",
    "       +Regulation,data=data)  #final model after selection\n",
    "summary(fit3)"
   ]
  },
  {
   "cell_type": "markdown",
   "id": "0c8f10a3-abf7-421a-8c3c-50cfdb34068c",
   "metadata": {},
   "source": [
    "<font size=\"5\" color='blue'>**Cross Validation** </font>"
   ]
  },
  {
   "cell_type": "code",
   "execution_count": null,
   "id": "a9cc9fca-13b8-4f49-ba6c-682dccbb7b0b",
   "metadata": {},
   "outputs": [],
   "source": [
    "test.set=data[trainingRowindex,]\n",
    "train.set=data[trainingRowindex,]\n",
    "trainingRow=sample(1:nrow(data),0.7*nrow(data))\n",
    "data$Human_Freedom_score=data$Human_Freedom_score^(1.5)\n",
    "createDataPartition(p = 0.8, list = FALSE)\n",
    "training.samples <- data$Human_Freedom_score^(1.5)\n",
    "training.sample=data$Human_Freedom_score^(1.5)\n",
    "MSE=mean(mse, na.rm = T)"
   ]
  }
 ],
 "metadata": {
  "kernelspec": {
   "display_name": "R",
   "language": "R",
   "name": "conda-env-r-r"
  },
  "language_info": {
   "codemirror_mode": "r",
   "file_extension": ".r",
   "mimetype": "text/x-r-source",
   "name": "R",
   "pygments_lexer": "r",
   "version": "3.5.1"
  }
 },
 "nbformat": 4,
 "nbformat_minor": 5
}
